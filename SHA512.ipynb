{
  "nbformat": 4,
  "nbformat_minor": 0,
  "metadata": {
    "colab": {
      "name": "SHA512.ipynb",
      "provenance": [],
      "collapsed_sections": [
        "jXVd-6xZxjLW",
        "OQBR8x5C9k1H",
        "I6-a6EdR1YN7"
      ],
      "authorship_tag": "ABX9TyNCxVD0g1IuUIcBS9hZXLDw",
      "include_colab_link": true
    },
    "kernelspec": {
      "name": "python3",
      "display_name": "Python 3"
    },
    "language_info": {
      "name": "python"
    }
  },
  "cells": [
    {
      "cell_type": "markdown",
      "metadata": {
        "id": "view-in-github",
        "colab_type": "text"
      },
      "source": [
        "<a href=\"https://colab.research.google.com/github/Info-TeamSrl/SHA512/blob/main/SHA512.ipynb\" target=\"_parent\"><img src=\"https://colab.research.google.com/assets/colab-badge.svg\" alt=\"Open In Colab\"/></a>"
      ]
    },
    {
      "cell_type": "markdown",
      "metadata": {
        "id": "jXVd-6xZxjLW"
      },
      "source": [
        "# **Password Hash** - SHA512"
      ]
    },
    {
      "cell_type": "code",
      "metadata": {
        "id": "HPt65XMftK7q"
      },
      "source": [
        "import hashlib\n",
        "import random, string"
      ],
      "execution_count": null,
      "outputs": []
    },
    {
      "cell_type": "markdown",
      "metadata": {
        "id": "Hmc6hxHmxMs7"
      },
      "source": [
        "**Password in chiaro**"
      ]
    },
    {
      "cell_type": "code",
      "metadata": {
        "id": "B35qK86VuZST"
      },
      "source": [
        "d = \"demo\"\n",
        "d = d.encode('utf-8')"
      ],
      "execution_count": null,
      "outputs": []
    },
    {
      "cell_type": "markdown",
      "metadata": {
        "id": "__wKLFWvJ3gg"
      },
      "source": [
        "**Salt** - Fondamentalmente, il salt è solo un bit di dati derivato casualmente con cui prefiggi o suffissi i tuoi dati per aumentare notevolmente la complessità di un attacco del dizionario al tuo valore hash."
      ]
    },
    {
      "cell_type": "markdown",
      "metadata": {
        "id": "tOzWiuZJwbiC"
      },
      "source": [
        "**Generazione random del Salt**"
      ]
    },
    {
      "cell_type": "code",
      "metadata": {
        "colab": {
          "base_uri": "https://localhost:8080/"
        },
        "id": "pL8yTcVmvUIH",
        "outputId": "717ef162-9177-44a2-e1fc-c4165a2c1709"
      },
      "source": [
        "s = ''.join(random.choice(string.ascii_uppercase + string.digits) for _ in range(16))\n",
        "print(\"SALT = \" + s)\n",
        "s = s.encode('utf-8')"
      ],
      "execution_count": null,
      "outputs": [
        {
          "output_type": "stream",
          "name": "stdout",
          "text": [
            "SALT = LZQ97666KPN9CFVP\n"
          ]
        }
      ]
    },
    {
      "cell_type": "markdown",
      "metadata": {
        "id": "nHFqnCahJw02"
      },
      "source": [
        "**Assegnazione Manuale del Salt**"
      ]
    },
    {
      "cell_type": "code",
      "metadata": {
        "colab": {
          "base_uri": "https://localhost:8080/"
        },
        "id": "T9Ej6KOsJX58",
        "outputId": "6de23f02-3b11-4760-d704-a9446bcefd97"
      },
      "source": [
        "s = '3OG338T18YTY4DDE'\n",
        "print(\"SALT = \" + s)\n",
        "s = s.encode('utf-8')"
      ],
      "execution_count": null,
      "outputs": [
        {
          "output_type": "stream",
          "name": "stdout",
          "text": [
            "SALT = 3OG338T18YTY4DDE\n"
          ]
        }
      ]
    },
    {
      "cell_type": "markdown",
      "metadata": {
        "id": "zq_w5qX8KByo"
      },
      "source": [
        "**HASH** - Quindi, dati un sale se dei dati d, faresti semplicemente quanto segue per generare un hash salato dei dati:"
      ]
    },
    {
      "cell_type": "markdown",
      "metadata": {
        "id": "hAX_PiUExXIo"
      },
      "source": [
        "***SHA512***\n",
        "\n"
      ]
    },
    {
      "cell_type": "code",
      "metadata": {
        "colab": {
          "base_uri": "https://localhost:8080/"
        },
        "id": "PdE9ucrqtoh0",
        "outputId": "601373a1-9ff8-4fcc-d471-2b9fa2746225"
      },
      "source": [
        "h = hashlib.sha512((s + d)).hexdigest()\n",
        "print(\"HASH della PASSWORD = \" + h)"
      ],
      "execution_count": null,
      "outputs": [
        {
          "output_type": "stream",
          "name": "stdout",
          "text": [
            "HASH della PASSWORD = a341833cef42e23e203ecbd9a108715b89c14bd7fb1be3c687be3c709f7a241d493353d24dc0827e9774261b24a0183d883c742c49b622db17d1744147346989\n"
          ]
        }
      ]
    },
    {
      "cell_type": "markdown",
      "metadata": {
        "id": "OTFstWgeyZ7J"
      },
      "source": [
        "Messaggio da inviare = SALT + HASH della PASSWORD"
      ]
    },
    {
      "cell_type": "code",
      "metadata": {
        "colab": {
          "base_uri": "https://localhost:8080/"
        },
        "id": "FJwf6fJeycIa",
        "outputId": "68b77257-4642-41f6-c322-34e25ef4e0cb"
      },
      "source": [
        "msg = str( s + h.encode('utf-8') )\n",
        "msg = msg[2:len(msg)-1]\n",
        "print(\"Il messaggio inoltrato dal WS = \" + msg)"
      ],
      "execution_count": null,
      "outputs": [
        {
          "output_type": "stream",
          "name": "stdout",
          "text": [
            "Il messaggio inoltrato dal WS = 3OG338T18YTY4DDEa341833cef42e23e203ecbd9a108715b89c14bd7fb1be3c687be3c709f7a241d493353d24dc0827e9774261b24a0183d883c742c49b622db17d1744147346989\n"
          ]
        }
      ]
    },
    {
      "cell_type": "markdown",
      "metadata": {
        "id": "OQBR8x5C9k1H"
      },
      "source": [
        "# **Autentificazione a 2 fattori con Google Authenticator** "
      ]
    },
    {
      "cell_type": "code",
      "metadata": {
        "id": "MYA3lBJo4rCv"
      },
      "source": [
        "try:\n",
        "  import onetimepass as otp\n",
        "except ImportError:\n",
        "  !pip install onetimepass\n",
        "import onetimepass as otp"
      ],
      "execution_count": null,
      "outputs": []
    },
    {
      "cell_type": "code",
      "metadata": {
        "id": "6oJEVtiX5sF4"
      },
      "source": [
        "my_secret = 'MFRGGZDFMZTWQ2LK'\n",
        "my_token = otp.get_totp(my_secret)"
      ],
      "execution_count": null,
      "outputs": []
    },
    {
      "cell_type": "markdown",
      "metadata": {
        "id": "Sp57xVOfH7St"
      },
      "source": [
        "Generazione del QR Code per aggiungere il profilo su Google Authenticator"
      ]
    },
    {
      "cell_type": "code",
      "metadata": {
        "colab": {
          "base_uri": "https://localhost:8080/"
        },
        "id": "ZPF3zPbuAk_d",
        "outputId": "a503f812-c7c5-4efb-f8fe-e882f66ed2c6"
      },
      "source": [
        "url = 'https://www.google.com/chart?chs=200x200&chld=M|0&cht=qr&chl=otpauth://totp/Authenticator%3Fsecret%3D' + my_secret + '%26issuer%3DInfoTeam'\n",
        "print(url)"
      ],
      "execution_count": null,
      "outputs": [
        {
          "output_type": "stream",
          "name": "stdout",
          "text": [
            "https://www.google.com/chart?chs=200x200&chld=M|0&cht=qr&chl=otpauth://totp/Authenticator%3Fsecret%3DMFRGGZDFMZTWQ2LK%26issuer%3DInfoTeam\n"
          ]
        }
      ]
    },
    {
      "cell_type": "markdown",
      "metadata": {
        "id": "JOFXhaxVHro3"
      },
      "source": [
        "Apertura del QR Code in una WebPage"
      ]
    },
    {
      "cell_type": "code",
      "metadata": {
        "colab": {
          "base_uri": "https://localhost:8080/"
        },
        "id": "unoT_qcWDXAg",
        "outputId": "3c01f245-5b15-4835-89f0-c9c4a36739b3"
      },
      "source": [
        "import webbrowser\n",
        "webbrowser.open(url)"
      ],
      "execution_count": null,
      "outputs": [
        {
          "output_type": "execute_result",
          "data": {
            "text/plain": [
              "False"
            ]
          },
          "metadata": {},
          "execution_count": 108
        }
      ]
    },
    {
      "cell_type": "markdown",
      "metadata": {
        "id": "Sw-rd8snGuHb"
      },
      "source": [
        "Token da Verificare"
      ]
    },
    {
      "cell_type": "code",
      "metadata": {
        "id": "8gfZ82huGk9R"
      },
      "source": [
        "my_token = 818994"
      ],
      "execution_count": null,
      "outputs": []
    },
    {
      "cell_type": "markdown",
      "metadata": {
        "id": "0YagCW1QGnvJ"
      },
      "source": [
        "Autentificazione"
      ]
    },
    {
      "cell_type": "code",
      "metadata": {
        "colab": {
          "base_uri": "https://localhost:8080/"
        },
        "id": "VHu92SFV6IZS",
        "outputId": "17ed0f7a-9037-45cd-82a6-5c0e54bc3ae0"
      },
      "source": [
        "is_valid = otp.valid_totp(token=my_token, secret=my_secret)\n",
        "if is_valid == True : \n",
        "  print('Autentificato')\n",
        "else :\n",
        "  print('Non Autentificato')"
      ],
      "execution_count": null,
      "outputs": [
        {
          "output_type": "stream",
          "name": "stdout",
          "text": [
            "Autentificato\n"
          ]
        }
      ]
    },
    {
      "cell_type": "markdown",
      "metadata": {
        "id": "I6-a6EdR1YN7"
      },
      "source": [
        "# **Client con SHA512**"
      ]
    },
    {
      "cell_type": "code",
      "metadata": {
        "colab": {
          "base_uri": "https://localhost:8080/"
        },
        "id": "KfSbzRVU1a6D",
        "outputId": "89e305d0-cb42-43d2-fef9-24747a87dda7"
      },
      "source": [
        "salt = msg[0:16]\n",
        "password_h = msg[16: len(msg)]\n",
        "password = \"demo\"\n",
        "print(salt)\n",
        "print(password_h)"
      ],
      "execution_count": null,
      "outputs": [
        {
          "output_type": "stream",
          "name": "stdout",
          "text": [
            "3OG338T18YTY4DDE\n",
            "a341833cef42e23e203ecbd9a108715b89c14bd7fb1be3c687be3c709f7a241d493353d24dc0827e9774261b24a0183d883c742c49b622db17d1744147346989\n"
          ]
        }
      ]
    },
    {
      "cell_type": "code",
      "metadata": {
        "colab": {
          "base_uri": "https://localhost:8080/"
        },
        "id": "kP8YLu8l1rt9",
        "outputId": "71b7521e-174a-495f-f1eb-9d28b6960d60"
      },
      "source": [
        "if hashlib.sha512((salt.encode('utf-8') + password.encode('utf-8'))).hexdigest().encode('utf-8') == password_h.encode('utf-8') :\n",
        "    print(\"OK\")\n",
        "else :\n",
        "    print(\"NO\")\n"
      ],
      "execution_count": null,
      "outputs": [
        {
          "output_type": "stream",
          "name": "stdout",
          "text": [
            "OK\n"
          ]
        }
      ]
    }
  ]
}