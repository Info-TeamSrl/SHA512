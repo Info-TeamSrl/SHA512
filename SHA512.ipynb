{
  "nbformat": 4,
  "nbformat_minor": 0,
  "metadata": {
    "colab": {
      "name": "SHA512.ipynb",
      "provenance": [],
      "collapsed_sections": [],
      "authorship_tag": "ABX9TyPT+WlutPDOTLQHwAopVQlG",
      "include_colab_link": true
    },
    "kernelspec": {
      "name": "python3",
      "display_name": "Python 3"
    },
    "language_info": {
      "name": "python"
    }
  },
  "cells": [
    {
      "cell_type": "markdown",
      "metadata": {
        "id": "view-in-github",
        "colab_type": "text"
      },
      "source": [
        "<a href=\"https://colab.research.google.com/github/Info-TeamSrl/SHA512/blob/main/SHA512.ipynb\" target=\"_parent\"><img src=\"https://colab.research.google.com/assets/colab-badge.svg\" alt=\"Open In Colab\"/></a>"
      ]
    },
    {
      "cell_type": "markdown",
      "metadata": {
        "id": "jXVd-6xZxjLW"
      },
      "source": [
        "# **Password Hash** - SHA512"
      ]
    },
    {
      "cell_type": "code",
      "metadata": {
        "id": "HPt65XMftK7q"
      },
      "source": [
        "import hashlib\n",
        "import random, string"
      ],
      "execution_count": 125,
      "outputs": []
    },
    {
      "cell_type": "markdown",
      "metadata": {
        "id": "Hmc6hxHmxMs7"
      },
      "source": [
        "**Password in chiaro**"
      ]
    },
    {
      "cell_type": "code",
      "metadata": {
        "id": "B35qK86VuZST"
      },
      "source": [
        "d = \"demo\"\n",
        "d = d.encode('utf-8')"
      ],
      "execution_count": 126,
      "outputs": []
    },
    {
      "cell_type": "markdown",
      "metadata": {
        "id": "__wKLFWvJ3gg"
      },
      "source": [
        "**Salt** - Fondamentalmente, il salt è solo un bit di dati derivato casualmente con cui prefiggi o suffissi i tuoi dati per aumentare notevolmente la complessità di un attacco del dizionario al tuo valore hash."
      ]
    },
    {
      "cell_type": "markdown",
      "metadata": {
        "id": "tOzWiuZJwbiC"
      },
      "source": [
        "**Generazione random del Salt**"
      ]
    },
    {
      "cell_type": "code",
      "metadata": {
        "colab": {
          "base_uri": "https://localhost:8080/"
        },
        "id": "pL8yTcVmvUIH",
        "outputId": "994ae57f-2c9f-4a4a-99ec-72ae146fd66b"
      },
      "source": [
        "s = ''.join(random.choice(string.ascii_uppercase + string.digits) for _ in range(16))\n",
        "print(\"SALT = \" + s)\n",
        "s = s.encode('utf-8')"
      ],
      "execution_count": 127,
      "outputs": [
        {
          "output_type": "stream",
          "name": "stdout",
          "text": [
            "SALT = 8EZFGXPMOER0AZ7S\n"
          ]
        }
      ]
    },
    {
      "cell_type": "markdown",
      "metadata": {
        "id": "nHFqnCahJw02"
      },
      "source": [
        "**Assegnazione Manuale del Salt**"
      ]
    },
    {
      "cell_type": "code",
      "metadata": {
        "colab": {
          "base_uri": "https://localhost:8080/"
        },
        "id": "T9Ej6KOsJX58",
        "outputId": "ffe65145-9f1e-4ff7-b4b9-2435a3a06448"
      },
      "source": [
        "s = '3OG338T18YTY4DDE'\n",
        "print(\"SALT = \" + s)\n",
        "s = s.encode('utf-8')"
      ],
      "execution_count": 128,
      "outputs": [
        {
          "output_type": "stream",
          "name": "stdout",
          "text": [
            "SALT = 3OG338T18YTY4DDE\n"
          ]
        }
      ]
    },
    {
      "cell_type": "markdown",
      "metadata": {
        "id": "zq_w5qX8KByo"
      },
      "source": [
        "**HASH** - Quindi, dati un sale se dei dati d, faresti semplicemente quanto segue per generare un hash salato dei dati:"
      ]
    },
    {
      "cell_type": "markdown",
      "metadata": {
        "id": "hAX_PiUExXIo"
      },
      "source": [
        "***SHA512***\n",
        "\n"
      ]
    },
    {
      "cell_type": "code",
      "metadata": {
        "colab": {
          "base_uri": "https://localhost:8080/"
        },
        "id": "PdE9ucrqtoh0",
        "outputId": "f7304e4d-f95e-43c8-a040-088a56d598f5"
      },
      "source": [
        "h = hashlib.sha512((s + d)).hexdigest()\n",
        "print(\"HASH della PASSWORD = \" + h)"
      ],
      "execution_count": 129,
      "outputs": [
        {
          "output_type": "stream",
          "name": "stdout",
          "text": [
            "HASH della PASSWORD = a341833cef42e23e203ecbd9a108715b89c14bd7fb1be3c687be3c709f7a241d493353d24dc0827e9774261b24a0183d883c742c49b622db17d1744147346989\n"
          ]
        }
      ]
    },
    {
      "cell_type": "markdown",
      "metadata": {
        "id": "OTFstWgeyZ7J"
      },
      "source": [
        "Messaggio da inviare = SALT + HASH della PASSWORD"
      ]
    },
    {
      "cell_type": "code",
      "metadata": {
        "colab": {
          "base_uri": "https://localhost:8080/"
        },
        "id": "FJwf6fJeycIa",
        "outputId": "06b30ee4-b315-4a59-d308-1ded533f587d"
      },
      "source": [
        "msg = str( s + h.encode('utf-8') )\n",
        "msg = msg[2:len(msg)-1]\n",
        "print(\"Il messaggio inoltrato dal WS = \" + msg)"
      ],
      "execution_count": 130,
      "outputs": [
        {
          "output_type": "stream",
          "name": "stdout",
          "text": [
            "Il messaggio inoltrato dal WS = 3OG338T18YTY4DDEa341833cef42e23e203ecbd9a108715b89c14bd7fb1be3c687be3c709f7a241d493353d24dc0827e9774261b24a0183d883c742c49b622db17d1744147346989\n"
          ]
        }
      ]
    },
    {
      "cell_type": "markdown",
      "metadata": {
        "id": "OQBR8x5C9k1H"
      },
      "source": [
        "# **Autentificazione a 2 fattori con Google Authenticator** "
      ]
    },
    {
      "cell_type": "code",
      "metadata": {
        "id": "MYA3lBJo4rCv"
      },
      "source": [
        "try:\n",
        "  import onetimepass as otp\n",
        "except ImportError:\n",
        "  !pip install onetimepass\n",
        "import onetimepass as otp"
      ],
      "execution_count": 131,
      "outputs": []
    },
    {
      "cell_type": "code",
      "metadata": {
        "id": "6oJEVtiX5sF4"
      },
      "source": [
        "my_secret = 'MFRGGZDFMZTWQ2LK'\n",
        "my_token = otp.get_totp(my_secret)"
      ],
      "execution_count": 132,
      "outputs": []
    },
    {
      "cell_type": "markdown",
      "metadata": {
        "id": "Sp57xVOfH7St"
      },
      "source": [
        "Generazione del QR Code per aggiungere il profilo su Google Authenticator"
      ]
    },
    {
      "cell_type": "code",
      "metadata": {
        "colab": {
          "base_uri": "https://localhost:8080/"
        },
        "id": "ZPF3zPbuAk_d",
        "outputId": "4cb07ecf-9ac9-477e-a642-6daa1e0986c7"
      },
      "source": [
        "url = 'https://www.google.com/chart?chs=200x200&chld=M|0&cht=qr&chl=otpauth://totp/Authenticator%3Fsecret%3D' + my_secret + '%26issuer%3DInfoTeam'\n",
        "print(url)"
      ],
      "execution_count": 133,
      "outputs": [
        {
          "output_type": "stream",
          "name": "stdout",
          "text": [
            "https://www.google.com/chart?chs=200x200&chld=M|0&cht=qr&chl=otpauth://totp/Authenticator%3Fsecret%3DMFRGGZDFMZTWQ2LK%26issuer%3DInfoTeam\n"
          ]
        }
      ]
    },
    {
      "cell_type": "markdown",
      "metadata": {
        "id": "JOFXhaxVHro3"
      },
      "source": [
        "Apertura del QR Code in una WebPage"
      ]
    },
    {
      "cell_type": "code",
      "metadata": {
        "colab": {
          "base_uri": "https://localhost:8080/"
        },
        "id": "unoT_qcWDXAg",
        "outputId": "7242eeff-a7fa-41c2-c853-eaf076f6d115"
      },
      "source": [
        "import webbrowser\n",
        "webbrowser.open(url)"
      ],
      "execution_count": 134,
      "outputs": [
        {
          "output_type": "execute_result",
          "data": {
            "text/plain": [
              "False"
            ]
          },
          "metadata": {},
          "execution_count": 134
        }
      ]
    },
    {
      "cell_type": "markdown",
      "metadata": {
        "id": "Sw-rd8snGuHb"
      },
      "source": [
        "Token da Verificare"
      ]
    },
    {
      "cell_type": "code",
      "metadata": {
        "id": "8gfZ82huGk9R"
      },
      "source": [
        "my_token = 818994"
      ],
      "execution_count": 135,
      "outputs": []
    },
    {
      "cell_type": "markdown",
      "metadata": {
        "id": "0YagCW1QGnvJ"
      },
      "source": [
        "Autentificazione"
      ]
    },
    {
      "cell_type": "code",
      "metadata": {
        "colab": {
          "base_uri": "https://localhost:8080/"
        },
        "id": "VHu92SFV6IZS",
        "outputId": "8398da82-f849-4c6e-b1a6-f0e5d31c0233"
      },
      "source": [
        "is_valid = otp.valid_totp(token=my_token, secret=my_secret)\n",
        "if is_valid == True : \n",
        "  print('Autentificato')\n",
        "else :\n",
        "  print('Non Autentificato')"
      ],
      "execution_count": 136,
      "outputs": [
        {
          "output_type": "stream",
          "name": "stdout",
          "text": [
            "Non Autentificato\n"
          ]
        }
      ]
    },
    {
      "cell_type": "markdown",
      "metadata": {
        "id": "I6-a6EdR1YN7"
      },
      "source": [
        "# **Client con SHA512**"
      ]
    },
    {
      "cell_type": "code",
      "metadata": {
        "colab": {
          "base_uri": "https://localhost:8080/"
        },
        "id": "KfSbzRVU1a6D",
        "outputId": "a4c33940-937f-4ced-d962-f5ab2e1450d0"
      },
      "source": [
        "salt = msg[0:16]\n",
        "password_h = msg[16: len(msg)]\n",
        "password = \"demo\"\n",
        "print(salt)\n",
        "print(password_h)"
      ],
      "execution_count": 137,
      "outputs": [
        {
          "output_type": "stream",
          "name": "stdout",
          "text": [
            "3OG338T18YTY4DDE\n",
            "a341833cef42e23e203ecbd9a108715b89c14bd7fb1be3c687be3c709f7a241d493353d24dc0827e9774261b24a0183d883c742c49b622db17d1744147346989\n"
          ]
        }
      ]
    },
    {
      "cell_type": "code",
      "metadata": {
        "colab": {
          "base_uri": "https://localhost:8080/"
        },
        "id": "kP8YLu8l1rt9",
        "outputId": "ee742b6b-ea68-402a-d6e1-d75cc3b3c257"
      },
      "source": [
        "if hashlib.sha512((salt.encode('utf-8') + password.encode('utf-8'))).hexdigest().encode('utf-8') == password_h.encode('utf-8') :\n",
        "    print(\"OK\")\n",
        "else :\n",
        "    print(\"NO\")\n"
      ],
      "execution_count": 138,
      "outputs": [
        {
          "output_type": "stream",
          "name": "stdout",
          "text": [
            "OK\n"
          ]
        }
      ]
    },
    {
      "cell_type": "markdown",
      "metadata": {
        "id": "YKDpwD6teDdc"
      },
      "source": [
        "# **Client con SHA512 e GOOGLE AUTHENTICATOR**"
      ]
    },
    {
      "cell_type": "markdown",
      "metadata": {
        "id": "DJqvedLAfbeY"
      },
      "source": [
        "INPUT - Credenziali"
      ]
    },
    {
      "cell_type": "code",
      "metadata": {
        "colab": {
          "base_uri": "https://localhost:8080/"
        },
        "id": "if705cS2edd6",
        "outputId": "18e53366-d27d-48dc-ba55-4a29e37d7799"
      },
      "source": [
        "salt = msg[0:16]\n",
        "password_h = msg[16: len(msg)]\n",
        "password = \"demo\"\n",
        "print(salt)\n",
        "print(password_h)"
      ],
      "execution_count": 139,
      "outputs": [
        {
          "output_type": "stream",
          "name": "stdout",
          "text": [
            "3OG338T18YTY4DDE\n",
            "a341833cef42e23e203ecbd9a108715b89c14bd7fb1be3c687be3c709f7a241d493353d24dc0827e9774261b24a0183d883c742c49b622db17d1744147346989\n"
          ]
        }
      ]
    },
    {
      "cell_type": "markdown",
      "metadata": {
        "id": "aZl9PX2LfhWy"
      },
      "source": [
        "Controllo validità credenziali"
      ]
    },
    {
      "cell_type": "code",
      "metadata": {
        "colab": {
          "base_uri": "https://localhost:8080/"
        },
        "id": "CCkm9sKcegXi",
        "outputId": "f989d2a9-03a8-4ce8-d43a-06ba48e35f38"
      },
      "source": [
        "if hashlib.sha512((salt.encode('utf-8') + password.encode('utf-8'))).hexdigest().encode('utf-8') == password_h.encode('utf-8') :\n",
        "    print(\"OK - SHA512\")\n",
        "else :\n",
        "    print(\"NO - SHA512\")"
      ],
      "execution_count": 140,
      "outputs": [
        {
          "output_type": "stream",
          "name": "stdout",
          "text": [
            "OK - SHA512\n"
          ]
        }
      ]
    },
    {
      "cell_type": "markdown",
      "metadata": {
        "id": "pbiw7Zb2fkhC"
      },
      "source": [
        "INPUT - Token from Google Authenticator App"
      ]
    },
    {
      "cell_type": "code",
      "metadata": {
        "id": "EQC8Rjqpe8WU"
      },
      "source": [
        "my_token = 640389"
      ],
      "execution_count": 141,
      "outputs": []
    },
    {
      "cell_type": "markdown",
      "metadata": {
        "id": "hUd37KsUfsIx"
      },
      "source": [
        "Controllo validità token "
      ]
    },
    {
      "cell_type": "code",
      "metadata": {
        "colab": {
          "base_uri": "https://localhost:8080/"
        },
        "id": "A-t2yrX8e-rj",
        "outputId": "27de8135-62a0-4313-c410-5caebf8d4ffc"
      },
      "source": [
        "is_valid = otp.valid_totp(token=my_token, secret=my_secret)\n",
        "if is_valid == True : \n",
        "  print('OK - Google Authenticator')\n",
        "else :\n",
        "  print('NO - Google Authenticator')"
      ],
      "execution_count": 142,
      "outputs": [
        {
          "output_type": "stream",
          "name": "stdout",
          "text": [
            "NO - Google Authenticator\n"
          ]
        }
      ]
    }
  ]
}